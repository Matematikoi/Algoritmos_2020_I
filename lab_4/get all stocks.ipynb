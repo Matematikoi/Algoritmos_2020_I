{
 "cells": [
  {
   "cell_type": "code",
   "execution_count": 1,
   "metadata": {},
   "outputs": [],
   "source": [
    "import pandas as pd\n",
    "from quantopian.research import run_pipeline\n",
    "from quantopian.pipeline import Pipeline\n",
    "from quantopian.pipeline.data import Fundamentals\n",
    "from quantopian.pipeline.experimental import QTradableStocksUS\n",
    "import numpy as np"
   ]
  },
  {
   "cell_type": "markdown",
   "metadata": {},
   "source": [
    "# Función de utilidad para obtener el universo de empresas en quantopian"
   ]
  },
  {
   "cell_type": "code",
   "execution_count": 2,
   "metadata": {},
   "outputs": [],
   "source": [
    "def make_pipeline():\n",
    "    universe = QTradableStocksUS()\n",
    "    market_cap = Fundamentals.market_cap.latest\n",
    "    return Pipeline(\n",
    "        columns={\n",
    "            'market_cap':market_cap,\n",
    "        }, screen=universe\n",
    "    )"
   ]
  },
  {
   "cell_type": "markdown",
   "metadata": {},
   "source": [
    "# Extracción del universo de empresas en los periodos correspondientes"
   ]
  },
  {
   "cell_type": "code",
   "execution_count": 3,
   "metadata": {},
   "outputs": [
    {
     "data": {
      "application/vnd.jupyter.widget-view+json": {
       "model_id": "",
       "version_major": 2,
       "version_minor": 0
      },
      "text/plain": []
     },
     "metadata": {},
     "output_type": "display_data"
    },
    {
     "data": {
      "text/html": [
       "<b>Pipeline Execution Time:</b> 4.47 Seconds"
      ],
      "text/plain": [
       "<IPython.core.display.HTML object>"
      ]
     },
     "metadata": {},
     "output_type": "display_data"
    },
    {
     "data": {
      "application/vnd.jupyter.widget-view+json": {
       "model_id": "",
       "version_major": 2,
       "version_minor": 0
      },
      "text/plain": []
     },
     "metadata": {},
     "output_type": "display_data"
    },
    {
     "data": {
      "text/html": [
       "<b>Pipeline Execution Time:</b> 0.67 Seconds"
      ],
      "text/plain": [
       "<IPython.core.display.HTML object>"
      ]
     },
     "metadata": {},
     "output_type": "display_data"
    }
   ],
   "source": [
    "past_date = '2019-10-04'\n",
    "past =run_pipeline(make_pipeline(),start_date=past_date,end_date=past_date)\n",
    "present_date = '2020-04-03'\n",
    "today = run_pipeline(make_pipeline(),start_date=present_date,end_date=present_date)"
   ]
  },
  {
   "cell_type": "markdown",
   "metadata": {},
   "source": [
    "## Limpieza del output para mejor visualización"
   ]
  },
  {
   "cell_type": "code",
   "execution_count": 4,
   "metadata": {},
   "outputs": [],
   "source": [
    "today.index = map(lambda x :str(x).split('[')[-1][:-3] , today.index.values )\n",
    "past.index = map(lambda x :str(x).split('[')[-1][:-3] , past.index.values )"
   ]
  },
  {
   "cell_type": "markdown",
   "metadata": {},
   "source": [
    "# Obtención de resultado en caso de una inversión hace un tiempo"
   ]
  },
  {
   "cell_type": "code",
   "execution_count": 5,
   "metadata": {},
   "outputs": [],
   "source": [
    "# tomamos solo las empresas que estaban presentes en el pasado y que siguen presentes\n",
    "empresas = list(set(list(today.index.values)).intersection(list(past.index.values)))"
   ]
  },
  {
   "cell_type": "code",
   "execution_count": 6,
   "metadata": {},
   "outputs": [],
   "source": [
    "#juntamos ambos dataframes\n",
    "df = pd.concat([today.loc[empresas],past.loc[empresas]], axis = 1)"
   ]
  },
  {
   "cell_type": "code",
   "execution_count": 7,
   "metadata": {},
   "outputs": [],
   "source": [
    "# usamos el API de quantopian para obtener los datos de los stocks \n",
    "def get_stock_value(corp, date , low=True):\n",
    "    df = get_pricing(symbols=corp,start_date=date ,end_date=date)\n",
    "    return df.iloc[0].low if low else df.iloc[0].high\n",
    "df['old_stock'] = [get_stock_value(x, past_date) for x in df.index]\n",
    "df['current_stock'] = [get_stock_value(x, present_date) for x in df.index]"
   ]
  },
  {
   "cell_type": "code",
   "execution_count": 8,
   "metadata": {},
   "outputs": [
    {
     "data": {
      "text/html": [
       "<div>\n",
       "<table border=\"1\" class=\"dataframe\">\n",
       "  <thead>\n",
       "    <tr style=\"text-align: right;\">\n",
       "      <th></th>\n",
       "      <th>market_cap</th>\n",
       "      <th>market_cap</th>\n",
       "      <th>old_stock</th>\n",
       "      <th>current_stock</th>\n",
       "      <th>ganancia</th>\n",
       "      <th>sid</th>\n",
       "    </tr>\n",
       "  </thead>\n",
       "  <tbody>\n",
       "    <tr>\n",
       "      <th>AXSM</th>\n",
       "      <td>2.063618e+09</td>\n",
       "      <td>6.305479e+08</td>\n",
       "      <td>16.860</td>\n",
       "      <td>54.370</td>\n",
       "      <td>3.224792</td>\n",
       "      <td>49607</td>\n",
       "    </tr>\n",
       "    <tr>\n",
       "      <th>AUPH</th>\n",
       "      <td>1.616111e+09</td>\n",
       "      <td>4.840818e+08</td>\n",
       "      <td>5.080</td>\n",
       "      <td>14.250</td>\n",
       "      <td>2.805118</td>\n",
       "      <td>47621</td>\n",
       "    </tr>\n",
       "    <tr>\n",
       "      <th>TDOC</th>\n",
       "      <td>1.163168e+10</td>\n",
       "      <td>4.632927e+09</td>\n",
       "      <td>64.730</td>\n",
       "      <td>155.010</td>\n",
       "      <td>2.394717</td>\n",
       "      <td>49222</td>\n",
       "    </tr>\n",
       "    <tr>\n",
       "      <th>MRNA</th>\n",
       "      <td>1.092291e+10</td>\n",
       "      <td>4.975846e+09</td>\n",
       "      <td>14.890</td>\n",
       "      <td>32.720</td>\n",
       "      <td>2.197448</td>\n",
       "      <td>52751</td>\n",
       "    </tr>\n",
       "    <tr>\n",
       "      <th>EHTH</th>\n",
       "      <td>3.420454e+09</td>\n",
       "      <td>1.438605e+09</td>\n",
       "      <td>59.412</td>\n",
       "      <td>125.370</td>\n",
       "      <td>2.110180</td>\n",
       "      <td>32726</td>\n",
       "    </tr>\n",
       "    <tr>\n",
       "      <th>XLRN</th>\n",
       "      <td>4.458998e+09</td>\n",
       "      <td>2.086927e+09</td>\n",
       "      <td>38.820</td>\n",
       "      <td>80.098</td>\n",
       "      <td>2.063318</td>\n",
       "      <td>45431</td>\n",
       "    </tr>\n",
       "    <tr>\n",
       "      <th>TSLA</th>\n",
       "      <td>8.379931e+10</td>\n",
       "      <td>4.174202e+10</td>\n",
       "      <td>228.070</td>\n",
       "      <td>468.390</td>\n",
       "      <td>2.053712</td>\n",
       "      <td>39840</td>\n",
       "    </tr>\n",
       "  </tbody>\n",
       "</table>\n",
       "</div>"
      ],
      "text/plain": [
       "        market_cap    market_cap  old_stock  current_stock  ganancia    sid\n",
       "AXSM  2.063618e+09  6.305479e+08     16.860         54.370  3.224792  49607\n",
       "AUPH  1.616111e+09  4.840818e+08      5.080         14.250  2.805118  47621\n",
       "TDOC  1.163168e+10  4.632927e+09     64.730        155.010  2.394717  49222\n",
       "MRNA  1.092291e+10  4.975846e+09     14.890         32.720  2.197448  52751\n",
       "EHTH  3.420454e+09  1.438605e+09     59.412        125.370  2.110180  32726\n",
       "XLRN  4.458998e+09  2.086927e+09     38.820         80.098  2.063318  45431\n",
       "TSLA  8.379931e+10  4.174202e+10    228.070        468.390  2.053712  39840"
      ]
     },
     "execution_count": 8,
     "metadata": {},
     "output_type": "execute_result"
    }
   ],
   "source": [
    "df['ganancia'] = df['current_stock'] / df['old_stock']\n",
    "df ['sid'] = [symbols(c).sid for c in df.index]\n",
    "df.sort_values('ganancia', ascending = False).head(7)"
   ]
  }
 ],
 "metadata": {
  "kernelspec": {
   "display_name": "Python 3.5",
   "language": "python",
   "name": "py35"
  },
  "language_info": {
   "codemirror_mode": {
    "name": "ipython",
    "version": 3
   },
   "file_extension": ".py",
   "mimetype": "text/x-python",
   "name": "python",
   "nbconvert_exporter": "python",
   "pygments_lexer": "ipython3",
   "version": "3.5.9"
  }
 },
 "nbformat": 4,
 "nbformat_minor": 2
}